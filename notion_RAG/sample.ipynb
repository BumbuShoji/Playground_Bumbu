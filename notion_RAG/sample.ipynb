{
 "cells": [
  {
   "cell_type": "code",
   "execution_count": 11,
   "metadata": {},
   "outputs": [],
   "source": [
    "#import api key from env\n",
    "import os\n",
    "from dotenv import load_dotenv\n",
    "\n",
    "env_path = os.path.join(os.path.dirname(\".env\"),\"/Users/shojibumbu/VScode_prac/\")\n",
    "load_dotenv(env_path)\n",
    "\n",
    "API_KEY = os.environ.get(\"OPENAI_API_KEY\")\n",
    "integration_token = os.environ.get(\"NOTION_API_KEY\")"
   ]
  },
  {
   "cell_type": "code",
   "execution_count": 8,
   "metadata": {},
   "outputs": [
    {
     "name": "stdout",
     "output_type": "stream",
     "text": [
      "[Document(id_='f530c7f9-d108-4428-8bbf-9cb85846da79', embedding=None, metadata={'page_id': '78db3e4c443e4ee0ba7b1464c44e7865'}, excluded_embed_metadata_keys=[], excluded_llm_metadata_keys=[], relationships={}, hash='9502d0f5aa5abc413da085afa37bcadde061f3559803edc4e60cb4e97a1b04e6', text='\\t\\t庄司文武\\n\\t\\t所属\\u3000東京大学医学部健康総合科学科\\n\\t\\t誕生日\\u30002003/03/07\\n\\t\\t趣味\\u3000ダンス、コスプレ\\n\\t\\t連絡先情報\\n\\t\\tMail: bumbu.shoji@gmail.com\\n\\t\\tGitHub: \\n\\t\\thttps://github.com/BumbuShoji\\n\\n\\n自己紹介\\n初めまして。庄司文武と申します。\\n私は医療とAIの融合に関心があり、特にLLMの医療分野での応用について強く興味を持っています。私は医学部に所属し、医療からパブリックヘルスまで幅広く学んできました。そこで学んだのは医療はコミュニケーションがとても重要だということです。人間のコミュニケーションには言語が深く関わってきます。そのためLLMは医療において強いインパクトを持つと考えます。\\n医療分野でのAI、特にLLMの活用はまだ道半ばであり有効な活用法が見つけられているとは言えない状況です。それを見つけるためには医療とLLMと双方への理解を深めなければいけません。なので私はLLMへの理解をより深めるために、機械学習インターンや自主講座への参加などをしてきました。自主的な活動だけでなく学業においても、卒業論文や修士を通じて医療とAIの融合について扱っていこうと思っています。\\n医療は病気になった人を治すという個人的な問題である一方、全ての人が関わりうるものであり社会的な側面も持ちます。これからの社会にはAIがより深く関わってくることを考えると医療分野でのAIの活用は大きな利益を生み出すでしょうし、またとても興味深いテーマであります。私は研究や学習を続けながらこの分野に関わりたいと思っています。\\n\\n\\n職歴\\n株式会社Zeroboard\\n2023/09 ~ 現在\\n\\n機械学習エンジニアとしてインターンを行なっています。主な業務は自社サイト内でのRAGを用いたchatbotの改善やデータ分析、LLMについて最新情報の収集です。\\n\\n\\nスキル\\nバックエンド\\nPython\\n経験\\u3000一年半\\n主に機械学習、特にLLMの扱い方について学んできました。Hugging face, Llamaindexなどを使用した経験があります。\\nサーバ\\nAWS\\n経験\\u3000半年\\n現在行っているインターンの中で使用しており、sagemakerを中心とした基礎的な利用の経験があります。\\nその他\\nGit\\nDocker\\nSlack\\nNotion\\n\\n学歴\\n東京大学医学部健康総合科学科所属\\n2021/04\\u3000~\\u3000現在\\n現在大学４年\\n研究室\\n東京大学医学系研究科医療情報学教室所属\\n\\n医療のデータ基盤作成や医療分野での機械学習を行っている研究室に所属しております。\\n私はその中で医療分野でのLLMの応用について研究しています。具体的にはLLMにプロンプトを通じてロールを付与することで患者や被験者の振る舞いをどの程度再現できるかについて調べております。\\n\\n\\n言語\\n日本語 🇯🇵\\n母語\\n英語 🇺🇸\\n日常会話レベル\\n', start_char_idx=None, end_char_idx=None, text_template='{metadata_str}\\n\\n{content}', metadata_template='{key}: {value}', metadata_seperator='\\n')]\n",
      "2003/03/07\n"
     ]
    }
   ],
   "source": [
    "import openai\n",
    "from llama_index import ListIndex,NotionPageReader\n",
    "\n",
    "#Notionのシークレット\n",
    "page_ids = [\"78db3e4c443e4ee0ba7b1464c44e7865\"] #NotionのページID\n",
    "\n",
    "#読み込み\n",
    "documents = NotionPageReader(integration_token=integration_token).load_data(\n",
    "    page_ids=page_ids\n",
    ")\n",
    "print(documents)\n",
    "\n",
    "#indexDBに入れる\n",
    "index = ListIndex.from_documents(documents)\n",
    "query_engine = index.as_query_engine()\n",
    "response = query_engine.query(\"庄司の生年月日は？\")\n",
    "\n",
    "print(response)\n"
   ]
  }
 ],
 "metadata": {
  "kernelspec": {
   "display_name": "Python 3",
   "language": "python",
   "name": "python3"
  },
  "language_info": {
   "codemirror_mode": {
    "name": "ipython",
    "version": 3
   },
   "file_extension": ".py",
   "mimetype": "text/x-python",
   "name": "python",
   "nbconvert_exporter": "python",
   "pygments_lexer": "ipython3",
   "version": "3.11.2"
  }
 },
 "nbformat": 4,
 "nbformat_minor": 2
}
